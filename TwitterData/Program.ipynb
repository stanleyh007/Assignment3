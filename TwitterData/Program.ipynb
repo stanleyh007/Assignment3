{
 "cells": [
  {
   "cell_type": "code",
   "execution_count": 1,
   "metadata": {},
   "outputs": [
    {
     "name": "stdout",
     "output_type": "stream",
     "text": [
      "CONTAINER ID        IMAGE               COMMAND                  CREATED             STATUS              PORTS                      NAMES\n",
      "99da1d19aa27        mongo               \"docker-entrypoint.s…\"   4 hours ago         Up 4 hours          0.0.0.0:27017->27017/tcp   dbms\n"
     ]
    }
   ],
   "source": [
    "%%bash\n",
    "docker container ls"
   ]
  },
  {
   "cell_type": "code",
   "execution_count": 2,
   "metadata": {},
   "outputs": [
    {
     "name": "stdout",
     "output_type": "stream",
     "text": [
      "Done\n"
     ]
    }
   ],
   "source": [
    "import pymongo\n",
    "from pymongo import MongoClient\n",
    "client = MongoClient()\n",
    "db = client.dbms\n",
    "tweets = db.things\n",
    "print(\"Done\")"
   ]
  },
  {
   "cell_type": "code",
   "execution_count": 31,
   "metadata": {},
   "outputs": [
    {
     "name": "stdout",
     "output_type": "stream",
     "text": [
      "[{'count': 659775}]\n"
     ]
    }
   ],
   "source": [
    "import pprint\n",
    "totalUser = [\n",
    "    {\"$group\": {\"_id\": \"$user\"}},\n",
    "    {\"$count\": \"count\"}]\n",
    "pprint.pprint(list(tweets.aggregate(totalUser)))"
   ]
  },
  {
   "cell_type": "code",
   "execution_count": 33,
   "metadata": {},
   "outputs": [
    {
     "name": "stdout",
     "output_type": "stream",
     "text": [
      "[{'_id': 'lost_dog', 'count': 549},\n",
      " {'_id': 'webwoke', 'count': 345},\n",
      " {'_id': 'tweetpet', 'count': 310},\n",
      " {'_id': 'SallytheShizzle', 'count': 281},\n",
      " {'_id': 'VioletsCRUK', 'count': 279},\n",
      " {'_id': 'mcraddictal', 'count': 276},\n",
      " {'_id': 'tsarnick', 'count': 248},\n",
      " {'_id': 'what_bugs_u', 'count': 246},\n",
      " {'_id': 'Karen230683', 'count': 238},\n",
      " {'_id': 'DarkPiano', 'count': 236}]\n"
     ]
    }
   ],
   "source": [
    "from bson.son import SON\n",
    "mostActive = [\n",
    "    {\"$group\": {\"_id\": \"$user\", \"count\": {\"$sum\": 1}}},\n",
    "    {\"$sort\": SON([(\"count\", -1)])},\n",
    "    {\"$limit\": 10}]\n",
    "pprint.pprint(list(tweets.aggregate(mostActive)))"
   ]
  },
  {
   "cell_type": "code",
   "execution_count": 35,
   "metadata": {},
   "outputs": [
    {
     "name": "stdout",
     "output_type": "stream",
     "text": [
      "[{'count': 549, 'user': 'lost_dog'},\n",
      " {'count': 310, 'user': 'tweetpet'},\n",
      " {'count': 264, 'user': 'webwoke'},\n",
      " {'count': 210, 'user': 'mcraddictal'},\n",
      " {'count': 210, 'user': 'wowlew'}]\n"
     ]
    }
   ],
   "source": [
    "mostGrumpy = [\n",
    "    {\"$match\": {\"polarity\": 0}},\n",
    "    {\"$group\": {\"_id\": \"$user\", \"user\": {\"$first\": \"$user\"}, \"count\": {\"$sum\": 1}}},\n",
    "    {\"$sort\": SON([(\"count\", -1)])},\n",
    "    {\"$project\": {\"_id\": 0, \"user\": 1, \"count\": 1}},\n",
    "    {\"$limit\": 5}]\n",
    "pprint.pprint(list(tweets.aggregate(mostGrumpy)))"
   ]
  },
  {
   "cell_type": "code",
   "execution_count": 62,
   "metadata": {},
   "outputs": [
    {
     "name": "stdout",
     "output_type": "stream",
     "text": [
      "[{'count': 246, 'user': 'what_bugs_u'}]\n"
     ]
    }
   ],
   "source": [
    "mostHappy = [\n",
    "    {\"$match\": {\"polarity\": 4}},\n",
    "    {\"$group\": {\"_id\": \"$user\", \"user\": {\"$first\": \"$user\"}, \"count\": {\"$sum\": 1}}},\n",
    "    {\"$sort\": SON([(\"count\", -1)])},\n",
    "    {\"$project\": {\"_id\": 0, \"user\": 1, \"count\": 1}},\n",
    "    {\"$limit\": 1}]\n",
    "pprint.pprint(list(tweets.aggregate(mostHappy)))"
   ]
  },
  {
   "cell_type": "code",
   "execution_count": 103,
   "metadata": {},
   "outputs": [
    {
     "name": "stdout",
     "output_type": "stream",
     "text": [
      "[]\n"
     ]
    }
   ],
   "source": [
    "mostLink = [\n",
    "    {\"$match\": {\"text\": \"/@\\w+/\"}},\n",
    "    {\"$group\": {\"_id\": \"$user\", \"user\": {\"$first\": \"$user\"}, \"count\": {\"$sum\": 1}}},\n",
    "    {\"$sort\": SON([(\"count\", -1)])},    \n",
    "    {\"$limit\": 10},\n",
    "    {\"$project\": {\"_id\": 0, \"user\": 1, \"count\": 1}}]\n",
    "pprint.pprint(list(tweets.aggregate(mostLink)))"
   ]
  },
  {
   "cell_type": "code",
   "execution_count": 116,
   "metadata": {},
   "outputs": [
    {
     "ename": "SyntaxError",
     "evalue": "invalid syntax (<ipython-input-116-f451df69dd3a>, line 8)",
     "output_type": "error",
     "traceback": [
      "\u001b[0;36m  File \u001b[0;32m\"<ipython-input-116-f451df69dd3a>\"\u001b[0;36m, line \u001b[0;32m8\u001b[0m\n\u001b[0;31m    {\"$group\": {\"_id\": \"$text\", \"user\": {\"$first\": \"$text\"}, \"count\": {\"$sum\": 1}}},\u001b[0m\n\u001b[0m    ^\u001b[0m\n\u001b[0;31mSyntaxError\u001b[0m\u001b[0;31m:\u001b[0m invalid syntax\n"
     ]
    }
   ],
   "source": [
    "mostMentioned = [\n",
    "    {\"$match\": {\"text\": \"/@\\w+/\"}},\n",
    "    {\"$project\": {\"user\": 1, \"text\": {\"$split\": [\"$text\", \" \"]}}},\n",
    "    {\"$unwind\": \"$text\"},\n",
    "    {\"$match\": {\"text\": \"/@\\w+/\"}},\n",
    "    {\"$project\": {\"user\": 1, \"text\": {\"$split\": [\"$text\", \"@\"]}},\n",
    "    {\"$project\": {\"user\": 1, \"text\": {\"$arrayElemAt\": [\"$text\", 1]}}}\n",
    "    {\"$group\": {\"_id\": \"$text\", \"user\": {\"$first\": \"$text\"}, \"count\": {\"$sum\": 1}}},\n",
    "    {\"$sort\": SON([(\"count\", -1)])},    \n",
    "    {\"$limit\": 5},\n",
    "    {\"$project\": {\"_id\": 0, \"user\": 1, \"count\": 1}}]\n",
    "pprint.pprint(list(tweets.aggregate(mostMentioned)))"
   ]
  },
  {
   "cell_type": "code",
   "execution_count": null,
   "metadata": {},
   "outputs": [],
   "source": []
  }
 ],
 "metadata": {
  "kernelspec": {
   "display_name": "Python 3",
   "language": "python",
   "name": "python3"
  },
  "language_info": {
   "codemirror_mode": {
    "name": "ipython",
    "version": 3
   },
   "file_extension": ".py",
   "mimetype": "text/x-python",
   "name": "python",
   "nbconvert_exporter": "python",
   "pygments_lexer": "ipython3",
   "version": "3.7.1"
  }
 },
 "nbformat": 4,
 "nbformat_minor": 2
}
